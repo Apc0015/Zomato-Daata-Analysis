{
 "cells": [
  {
   "cell_type": "markdown",
   "id": "79a3a422",
   "metadata": {},
   "source": [
    "# Data Cleaning"
   ]
  },
  {
   "cell_type": "code",
   "execution_count": 18,
   "id": "21e081a4",
   "metadata": {},
   "outputs": [],
   "source": [
    "import pandas as pd\n",
    "import numpy as np"
   ]
  },
  {
   "cell_type": "code",
   "execution_count": 19,
   "id": "5600c8c1",
   "metadata": {},
   "outputs": [],
   "source": [
    "zomato=pd.read_csv(\"india1.csv\")"
   ]
  },
  {
   "cell_type": "code",
   "execution_count": 20,
   "id": "913b2f43",
   "metadata": {},
   "outputs": [
    {
     "data": {
      "text/html": [
       "<div>\n",
       "<style scoped>\n",
       "    .dataframe tbody tr th:only-of-type {\n",
       "        vertical-align: middle;\n",
       "    }\n",
       "\n",
       "    .dataframe tbody tr th {\n",
       "        vertical-align: top;\n",
       "    }\n",
       "\n",
       "    .dataframe thead th {\n",
       "        text-align: right;\n",
       "    }\n",
       "</style>\n",
       "<table border=\"1\" class=\"dataframe\">\n",
       "  <thead>\n",
       "    <tr style=\"text-align: right;\">\n",
       "      <th></th>\n",
       "      <th>res_id</th>\n",
       "      <th>name</th>\n",
       "      <th>establishment</th>\n",
       "      <th>url</th>\n",
       "      <th>address</th>\n",
       "      <th>city</th>\n",
       "      <th>city_id</th>\n",
       "      <th>locality</th>\n",
       "      <th>latitude</th>\n",
       "      <th>longitude</th>\n",
       "      <th>...</th>\n",
       "      <th>price_range</th>\n",
       "      <th>currency</th>\n",
       "      <th>highlights</th>\n",
       "      <th>aggregate_rating</th>\n",
       "      <th>rating_text</th>\n",
       "      <th>votes</th>\n",
       "      <th>photo_count</th>\n",
       "      <th>opentable_support</th>\n",
       "      <th>delivery</th>\n",
       "      <th>takeaway</th>\n",
       "    </tr>\n",
       "  </thead>\n",
       "  <tbody>\n",
       "    <tr>\n",
       "      <th>0</th>\n",
       "      <td>3400299</td>\n",
       "      <td>Bikanervala</td>\n",
       "      <td>['Quick Bites']</td>\n",
       "      <td>https://www.zomato.com/agra/bikanervala-khanda...</td>\n",
       "      <td>Kalyani Point, Near Tulsi Cinema, Bypass Road,...</td>\n",
       "      <td>Agra</td>\n",
       "      <td>34</td>\n",
       "      <td>Khandari</td>\n",
       "      <td>27.211450</td>\n",
       "      <td>78.002381</td>\n",
       "      <td>...</td>\n",
       "      <td>2</td>\n",
       "      <td>Rs.</td>\n",
       "      <td>['Lunch', 'Takeaway Available', 'Credit Card',...</td>\n",
       "      <td>4.4</td>\n",
       "      <td>Very Good</td>\n",
       "      <td>814</td>\n",
       "      <td>154</td>\n",
       "      <td>0.0</td>\n",
       "      <td>-1</td>\n",
       "      <td>-1</td>\n",
       "    </tr>\n",
       "    <tr>\n",
       "      <th>1</th>\n",
       "      <td>3400005</td>\n",
       "      <td>Mama Chicken Mama Franky House</td>\n",
       "      <td>['Quick Bites']</td>\n",
       "      <td>https://www.zomato.com/agra/mama-chicken-mama-...</td>\n",
       "      <td>Main Market, Sadar Bazaar, Agra Cantt, Agra</td>\n",
       "      <td>Agra</td>\n",
       "      <td>34</td>\n",
       "      <td>Agra Cantt</td>\n",
       "      <td>27.160569</td>\n",
       "      <td>78.011583</td>\n",
       "      <td>...</td>\n",
       "      <td>2</td>\n",
       "      <td>Rs.</td>\n",
       "      <td>['Delivery', 'No Alcohol Available', 'Dinner',...</td>\n",
       "      <td>4.4</td>\n",
       "      <td>Very Good</td>\n",
       "      <td>1203</td>\n",
       "      <td>161</td>\n",
       "      <td>0.0</td>\n",
       "      <td>-1</td>\n",
       "      <td>-1</td>\n",
       "    </tr>\n",
       "    <tr>\n",
       "      <th>2</th>\n",
       "      <td>3401013</td>\n",
       "      <td>Bhagat Halwai</td>\n",
       "      <td>['Quick Bites']</td>\n",
       "      <td>https://www.zomato.com/agra/bhagat-halwai-2-sh...</td>\n",
       "      <td>62/1, Near Easy Day, West Shivaji Nagar, Goalp...</td>\n",
       "      <td>Agra</td>\n",
       "      <td>34</td>\n",
       "      <td>Shahganj</td>\n",
       "      <td>27.182938</td>\n",
       "      <td>77.979684</td>\n",
       "      <td>...</td>\n",
       "      <td>1</td>\n",
       "      <td>Rs.</td>\n",
       "      <td>['No Alcohol Available', 'Dinner', 'Takeaway A...</td>\n",
       "      <td>4.2</td>\n",
       "      <td>Very Good</td>\n",
       "      <td>801</td>\n",
       "      <td>107</td>\n",
       "      <td>0.0</td>\n",
       "      <td>1</td>\n",
       "      <td>-1</td>\n",
       "    </tr>\n",
       "    <tr>\n",
       "      <th>3</th>\n",
       "      <td>3400290</td>\n",
       "      <td>Bhagat Halwai</td>\n",
       "      <td>['Quick Bites']</td>\n",
       "      <td>https://www.zomato.com/agra/bhagat-halwai-civi...</td>\n",
       "      <td>Near Anjana Cinema, Nehru Nagar, Civil Lines, ...</td>\n",
       "      <td>Agra</td>\n",
       "      <td>34</td>\n",
       "      <td>Civil Lines</td>\n",
       "      <td>27.205668</td>\n",
       "      <td>78.004799</td>\n",
       "      <td>...</td>\n",
       "      <td>1</td>\n",
       "      <td>Rs.</td>\n",
       "      <td>['Takeaway Available', 'Credit Card', 'Lunch',...</td>\n",
       "      <td>4.3</td>\n",
       "      <td>Very Good</td>\n",
       "      <td>693</td>\n",
       "      <td>157</td>\n",
       "      <td>0.0</td>\n",
       "      <td>1</td>\n",
       "      <td>-1</td>\n",
       "    </tr>\n",
       "    <tr>\n",
       "      <th>4</th>\n",
       "      <td>3401744</td>\n",
       "      <td>The Salt Cafe Kitchen &amp; Bar</td>\n",
       "      <td>['Casual Dining']</td>\n",
       "      <td>https://www.zomato.com/agra/the-salt-cafe-kitc...</td>\n",
       "      <td>1C,3rd Floor, Fatehabad Road, Tajganj, Agra</td>\n",
       "      <td>Agra</td>\n",
       "      <td>34</td>\n",
       "      <td>Tajganj</td>\n",
       "      <td>27.157709</td>\n",
       "      <td>78.052421</td>\n",
       "      <td>...</td>\n",
       "      <td>3</td>\n",
       "      <td>Rs.</td>\n",
       "      <td>['Lunch', 'Serves Alcohol', 'Cash', 'Credit Ca...</td>\n",
       "      <td>4.9</td>\n",
       "      <td>Excellent</td>\n",
       "      <td>470</td>\n",
       "      <td>291</td>\n",
       "      <td>0.0</td>\n",
       "      <td>1</td>\n",
       "      <td>-1</td>\n",
       "    </tr>\n",
       "  </tbody>\n",
       "</table>\n",
       "<p>5 rows × 26 columns</p>\n",
       "</div>"
      ],
      "text/plain": [
       "    res_id                            name      establishment  \\\n",
       "0  3400299                     Bikanervala    ['Quick Bites']   \n",
       "1  3400005  Mama Chicken Mama Franky House    ['Quick Bites']   \n",
       "2  3401013                   Bhagat Halwai    ['Quick Bites']   \n",
       "3  3400290                   Bhagat Halwai    ['Quick Bites']   \n",
       "4  3401744     The Salt Cafe Kitchen & Bar  ['Casual Dining']   \n",
       "\n",
       "                                                 url  \\\n",
       "0  https://www.zomato.com/agra/bikanervala-khanda...   \n",
       "1  https://www.zomato.com/agra/mama-chicken-mama-...   \n",
       "2  https://www.zomato.com/agra/bhagat-halwai-2-sh...   \n",
       "3  https://www.zomato.com/agra/bhagat-halwai-civi...   \n",
       "4  https://www.zomato.com/agra/the-salt-cafe-kitc...   \n",
       "\n",
       "                                             address  city  city_id  \\\n",
       "0  Kalyani Point, Near Tulsi Cinema, Bypass Road,...  Agra       34   \n",
       "1        Main Market, Sadar Bazaar, Agra Cantt, Agra  Agra       34   \n",
       "2  62/1, Near Easy Day, West Shivaji Nagar, Goalp...  Agra       34   \n",
       "3  Near Anjana Cinema, Nehru Nagar, Civil Lines, ...  Agra       34   \n",
       "4        1C,3rd Floor, Fatehabad Road, Tajganj, Agra  Agra       34   \n",
       "\n",
       "      locality   latitude  longitude  ... price_range  currency  \\\n",
       "0     Khandari  27.211450  78.002381  ...           2       Rs.   \n",
       "1   Agra Cantt  27.160569  78.011583  ...           2       Rs.   \n",
       "2     Shahganj  27.182938  77.979684  ...           1       Rs.   \n",
       "3  Civil Lines  27.205668  78.004799  ...           1       Rs.   \n",
       "4      Tajganj  27.157709  78.052421  ...           3       Rs.   \n",
       "\n",
       "                                          highlights aggregate_rating  \\\n",
       "0  ['Lunch', 'Takeaway Available', 'Credit Card',...              4.4   \n",
       "1  ['Delivery', 'No Alcohol Available', 'Dinner',...              4.4   \n",
       "2  ['No Alcohol Available', 'Dinner', 'Takeaway A...              4.2   \n",
       "3  ['Takeaway Available', 'Credit Card', 'Lunch',...              4.3   \n",
       "4  ['Lunch', 'Serves Alcohol', 'Cash', 'Credit Ca...              4.9   \n",
       "\n",
       "  rating_text  votes  photo_count opentable_support delivery  takeaway  \n",
       "0   Very Good    814          154               0.0       -1        -1  \n",
       "1   Very Good   1203          161               0.0       -1        -1  \n",
       "2   Very Good    801          107               0.0        1        -1  \n",
       "3   Very Good    693          157               0.0        1        -1  \n",
       "4   Excellent    470          291               0.0        1        -1  \n",
       "\n",
       "[5 rows x 26 columns]"
      ]
     },
     "execution_count": 20,
     "metadata": {},
     "output_type": "execute_result"
    }
   ],
   "source": [
    "zomato.head()"
   ]
  },
  {
   "cell_type": "code",
   "execution_count": 21,
   "id": "ade11c97",
   "metadata": {},
   "outputs": [
    {
     "data": {
      "text/plain": [
       "(211944, 26)"
      ]
     },
     "execution_count": 21,
     "metadata": {},
     "output_type": "execute_result"
    }
   ],
   "source": [
    "zomato.shape"
   ]
  },
  {
   "cell_type": "code",
   "execution_count": 22,
   "id": "439c2daa",
   "metadata": {},
   "outputs": [
    {
     "name": "stdout",
     "output_type": "stream",
     "text": [
      "<class 'pandas.core.frame.DataFrame'>\n",
      "RangeIndex: 211944 entries, 0 to 211943\n",
      "Data columns (total 26 columns):\n",
      " #   Column                Non-Null Count   Dtype  \n",
      "---  ------                --------------   -----  \n",
      " 0   res_id                211944 non-null  int64  \n",
      " 1   name                  211944 non-null  object \n",
      " 2   establishment         211944 non-null  object \n",
      " 3   url                   211944 non-null  object \n",
      " 4   address               211810 non-null  object \n",
      " 5   city                  211944 non-null  object \n",
      " 6   city_id               211944 non-null  int64  \n",
      " 7   locality              211944 non-null  object \n",
      " 8   latitude              211944 non-null  float64\n",
      " 9   longitude             211944 non-null  float64\n",
      " 10  zipcode               48757 non-null   object \n",
      " 11  country_id            211944 non-null  int64  \n",
      " 12  locality_verbose      211944 non-null  object \n",
      " 13  cuisines              210553 non-null  object \n",
      " 14  timings               208070 non-null  object \n",
      " 15  average_cost_for_two  211944 non-null  int64  \n",
      " 16  price_range           211944 non-null  int64  \n",
      " 17  currency              211944 non-null  object \n",
      " 18  highlights            211944 non-null  object \n",
      " 19  aggregate_rating      211944 non-null  float64\n",
      " 20  rating_text           211944 non-null  object \n",
      " 21  votes                 211944 non-null  int64  \n",
      " 22  photo_count           211944 non-null  int64  \n",
      " 23  opentable_support     211896 non-null  float64\n",
      " 24  delivery              211944 non-null  int64  \n",
      " 25  takeaway              211944 non-null  int64  \n",
      "dtypes: float64(4), int64(9), object(13)\n",
      "memory usage: 42.0+ MB\n"
     ]
    }
   ],
   "source": [
    "zomato.info()"
   ]
  },
  {
   "cell_type": "code",
   "execution_count": 23,
   "id": "f9dd72b6",
   "metadata": {},
   "outputs": [
    {
     "data": {
      "text/html": [
       "<div>\n",
       "<style scoped>\n",
       "    .dataframe tbody tr th:only-of-type {\n",
       "        vertical-align: middle;\n",
       "    }\n",
       "\n",
       "    .dataframe tbody tr th {\n",
       "        vertical-align: top;\n",
       "    }\n",
       "\n",
       "    .dataframe thead th {\n",
       "        text-align: right;\n",
       "    }\n",
       "</style>\n",
       "<table border=\"1\" class=\"dataframe\">\n",
       "  <thead>\n",
       "    <tr style=\"text-align: right;\">\n",
       "      <th></th>\n",
       "      <th>res_id</th>\n",
       "      <th>city_id</th>\n",
       "      <th>latitude</th>\n",
       "      <th>longitude</th>\n",
       "      <th>country_id</th>\n",
       "      <th>average_cost_for_two</th>\n",
       "      <th>price_range</th>\n",
       "      <th>aggregate_rating</th>\n",
       "      <th>votes</th>\n",
       "      <th>photo_count</th>\n",
       "      <th>opentable_support</th>\n",
       "      <th>delivery</th>\n",
       "      <th>takeaway</th>\n",
       "    </tr>\n",
       "  </thead>\n",
       "  <tbody>\n",
       "    <tr>\n",
       "      <th>count</th>\n",
       "      <td>2.119440e+05</td>\n",
       "      <td>211944.000000</td>\n",
       "      <td>211944.000000</td>\n",
       "      <td>211944.000000</td>\n",
       "      <td>211944.0</td>\n",
       "      <td>211944.000000</td>\n",
       "      <td>211944.000000</td>\n",
       "      <td>211944.000000</td>\n",
       "      <td>211944.000000</td>\n",
       "      <td>211944.000000</td>\n",
       "      <td>211896.0</td>\n",
       "      <td>211944.000000</td>\n",
       "      <td>211944.0</td>\n",
       "    </tr>\n",
       "    <tr>\n",
       "      <th>mean</th>\n",
       "      <td>1.349411e+07</td>\n",
       "      <td>4746.785434</td>\n",
       "      <td>21.499758</td>\n",
       "      <td>77.615276</td>\n",
       "      <td>1.0</td>\n",
       "      <td>595.812229</td>\n",
       "      <td>1.882535</td>\n",
       "      <td>3.395937</td>\n",
       "      <td>378.001864</td>\n",
       "      <td>256.971224</td>\n",
       "      <td>0.0</td>\n",
       "      <td>-0.255907</td>\n",
       "      <td>-1.0</td>\n",
       "    </tr>\n",
       "    <tr>\n",
       "      <th>std</th>\n",
       "      <td>7.883722e+06</td>\n",
       "      <td>5568.766386</td>\n",
       "      <td>22.781331</td>\n",
       "      <td>7.500104</td>\n",
       "      <td>0.0</td>\n",
       "      <td>606.239363</td>\n",
       "      <td>0.892989</td>\n",
       "      <td>1.283642</td>\n",
       "      <td>925.333370</td>\n",
       "      <td>867.668940</td>\n",
       "      <td>0.0</td>\n",
       "      <td>0.964172</td>\n",
       "      <td>0.0</td>\n",
       "    </tr>\n",
       "    <tr>\n",
       "      <th>min</th>\n",
       "      <td>5.000000e+01</td>\n",
       "      <td>1.000000</td>\n",
       "      <td>0.000000</td>\n",
       "      <td>0.000000</td>\n",
       "      <td>1.0</td>\n",
       "      <td>0.000000</td>\n",
       "      <td>1.000000</td>\n",
       "      <td>0.000000</td>\n",
       "      <td>-18.000000</td>\n",
       "      <td>0.000000</td>\n",
       "      <td>0.0</td>\n",
       "      <td>-1.000000</td>\n",
       "      <td>-1.0</td>\n",
       "    </tr>\n",
       "    <tr>\n",
       "      <th>25%</th>\n",
       "      <td>3.301027e+06</td>\n",
       "      <td>11.000000</td>\n",
       "      <td>15.496071</td>\n",
       "      <td>74.877961</td>\n",
       "      <td>1.0</td>\n",
       "      <td>250.000000</td>\n",
       "      <td>1.000000</td>\n",
       "      <td>3.300000</td>\n",
       "      <td>16.000000</td>\n",
       "      <td>3.000000</td>\n",
       "      <td>0.0</td>\n",
       "      <td>-1.000000</td>\n",
       "      <td>-1.0</td>\n",
       "    </tr>\n",
       "    <tr>\n",
       "      <th>50%</th>\n",
       "      <td>1.869573e+07</td>\n",
       "      <td>34.000000</td>\n",
       "      <td>22.514494</td>\n",
       "      <td>77.425971</td>\n",
       "      <td>1.0</td>\n",
       "      <td>400.000000</td>\n",
       "      <td>2.000000</td>\n",
       "      <td>3.800000</td>\n",
       "      <td>100.000000</td>\n",
       "      <td>18.000000</td>\n",
       "      <td>0.0</td>\n",
       "      <td>-1.000000</td>\n",
       "      <td>-1.0</td>\n",
       "    </tr>\n",
       "    <tr>\n",
       "      <th>75%</th>\n",
       "      <td>1.881297e+07</td>\n",
       "      <td>11306.000000</td>\n",
       "      <td>26.841667</td>\n",
       "      <td>80.219323</td>\n",
       "      <td>1.0</td>\n",
       "      <td>700.000000</td>\n",
       "      <td>2.000000</td>\n",
       "      <td>4.100000</td>\n",
       "      <td>362.000000</td>\n",
       "      <td>128.000000</td>\n",
       "      <td>0.0</td>\n",
       "      <td>1.000000</td>\n",
       "      <td>-1.0</td>\n",
       "    </tr>\n",
       "    <tr>\n",
       "      <th>max</th>\n",
       "      <td>1.915979e+07</td>\n",
       "      <td>11354.000000</td>\n",
       "      <td>10000.000000</td>\n",
       "      <td>91.832769</td>\n",
       "      <td>1.0</td>\n",
       "      <td>30000.000000</td>\n",
       "      <td>4.000000</td>\n",
       "      <td>4.900000</td>\n",
       "      <td>42539.000000</td>\n",
       "      <td>17702.000000</td>\n",
       "      <td>0.0</td>\n",
       "      <td>1.000000</td>\n",
       "      <td>-1.0</td>\n",
       "    </tr>\n",
       "  </tbody>\n",
       "</table>\n",
       "</div>"
      ],
      "text/plain": [
       "             res_id        city_id       latitude      longitude  country_id  \\\n",
       "count  2.119440e+05  211944.000000  211944.000000  211944.000000    211944.0   \n",
       "mean   1.349411e+07    4746.785434      21.499758      77.615276         1.0   \n",
       "std    7.883722e+06    5568.766386      22.781331       7.500104         0.0   \n",
       "min    5.000000e+01       1.000000       0.000000       0.000000         1.0   \n",
       "25%    3.301027e+06      11.000000      15.496071      74.877961         1.0   \n",
       "50%    1.869573e+07      34.000000      22.514494      77.425971         1.0   \n",
       "75%    1.881297e+07   11306.000000      26.841667      80.219323         1.0   \n",
       "max    1.915979e+07   11354.000000   10000.000000      91.832769         1.0   \n",
       "\n",
       "       average_cost_for_two    price_range  aggregate_rating          votes  \\\n",
       "count         211944.000000  211944.000000     211944.000000  211944.000000   \n",
       "mean             595.812229       1.882535          3.395937     378.001864   \n",
       "std              606.239363       0.892989          1.283642     925.333370   \n",
       "min                0.000000       1.000000          0.000000     -18.000000   \n",
       "25%              250.000000       1.000000          3.300000      16.000000   \n",
       "50%              400.000000       2.000000          3.800000     100.000000   \n",
       "75%              700.000000       2.000000          4.100000     362.000000   \n",
       "max            30000.000000       4.000000          4.900000   42539.000000   \n",
       "\n",
       "         photo_count  opentable_support       delivery  takeaway  \n",
       "count  211944.000000           211896.0  211944.000000  211944.0  \n",
       "mean      256.971224                0.0      -0.255907      -1.0  \n",
       "std       867.668940                0.0       0.964172       0.0  \n",
       "min         0.000000                0.0      -1.000000      -1.0  \n",
       "25%         3.000000                0.0      -1.000000      -1.0  \n",
       "50%        18.000000                0.0      -1.000000      -1.0  \n",
       "75%       128.000000                0.0       1.000000      -1.0  \n",
       "max     17702.000000                0.0       1.000000      -1.0  "
      ]
     },
     "execution_count": 23,
     "metadata": {},
     "output_type": "execute_result"
    }
   ],
   "source": [
    "zomato.describe()"
   ]
  },
  {
   "cell_type": "markdown",
   "id": "1f4e2449",
   "metadata": {},
   "source": [
    "Removing duplicates\n",
    "Its important to remove duplicate rows to avoid biasness in our analysis. Since res_id is unique identifier of our restaurants, we can use it to remove duplicates."
   ]
  },
  {
   "cell_type": "code",
   "execution_count": 24,
   "id": "d4c010e0",
   "metadata": {},
   "outputs": [
    {
     "data": {
      "text/plain": [
       "(55568, 26)"
      ]
     },
     "execution_count": 24,
     "metadata": {},
     "output_type": "execute_result"
    }
   ],
   "source": [
    "zomato.drop_duplicates([\"res_id\"],keep='first',inplace=True)\n",
    "zomato.shape"
   ]
  },
  {
   "cell_type": "markdown",
   "id": "61aebbd8",
   "metadata": {},
   "source": [
    "missig value"
   ]
  },
  {
   "cell_type": "code",
   "execution_count": 25,
   "id": "fdf81658",
   "metadata": {},
   "outputs": [
    {
     "data": {
      "text/plain": [
       "res_id                      0\n",
       "name                        0\n",
       "establishment               0\n",
       "url                         0\n",
       "address                    18\n",
       "city                        0\n",
       "city_id                     0\n",
       "locality                    0\n",
       "latitude                    0\n",
       "longitude                   0\n",
       "zipcode                 44623\n",
       "country_id                  0\n",
       "locality_verbose            0\n",
       "cuisines                  470\n",
       "timings                  1003\n",
       "average_cost_for_two        0\n",
       "price_range                 0\n",
       "currency                    0\n",
       "highlights                  0\n",
       "aggregate_rating            0\n",
       "rating_text                 0\n",
       "votes                       0\n",
       "photo_count                 0\n",
       "opentable_support          12\n",
       "delivery                    0\n",
       "takeaway                    0\n",
       "dtype: int64"
      ]
     },
     "execution_count": 25,
     "metadata": {},
     "output_type": "execute_result"
    }
   ],
   "source": [
    "zomato.isnull().sum()"
   ]
  },
  {
   "cell_type": "markdown",
   "id": "8bd05d69",
   "metadata": {},
   "source": [
    "We have 5 variables with some kind of missing values. Since zipcode has ~80% missing data, its better to not consider it at all. The other 4 features can be delt with some kind of imputation, but before going through the trouble, its better to look and decide whether they would be beneficial for our analysis or we can simply omit them"
   ]
  },
  {
   "cell_type": "markdown",
   "id": "322e16ce",
   "metadata": {},
   "source": [
    "Omitting not useful features\n",
    "\n",
    "Here we will look at each feature and decide to consider them for our analysis or not:-\n",
    "\n",
    "res_id - Unique ID for each restaurant\n",
    "\n",
    "name - Name is useful since we will use it to find top restaurants\n",
    "\n",
    "establishment - Let's see what type of values we have in establishment"
   ]
  },
  {
   "cell_type": "code",
   "execution_count": 26,
   "id": "0d0f496f",
   "metadata": {},
   "outputs": [
    {
     "data": {
      "text/plain": [
       "array([\"['Quick Bites']\", \"['Casual Dining']\", \"['Bakery']\", \"['Café']\",\n",
       "       \"['Dhaba']\", \"['Bhojanalya']\", \"['Bar']\", \"['Sweet Shop']\",\n",
       "       \"['Fine Dining']\", \"['Food Truck']\", \"['Dessert Parlour']\",\n",
       "       \"['Lounge']\", \"['Pub']\", \"['Beverage Shop']\", \"['Kiosk']\",\n",
       "       \"['Paan Shop']\", \"['Confectionery']\", '[]', \"['Shack']\",\n",
       "       \"['Club']\", \"['Food Court']\", \"['Mess']\", \"['Butcher Shop']\",\n",
       "       \"['Microbrewery']\", \"['Cocktail Bar']\", \"['Pop up']\",\n",
       "       \"['Irani Cafe']\"], dtype=object)"
      ]
     },
     "execution_count": 26,
     "metadata": {},
     "output_type": "execute_result"
    }
   ],
   "source": [
    "zomato[\"establishment\"].unique()"
   ]
  },
  {
   "cell_type": "code",
   "execution_count": 27,
   "id": "c7a67860",
   "metadata": {},
   "outputs": [
    {
     "name": "stdout",
     "output_type": "stream",
     "text": [
      "['Quick Bites']\n",
      "<class 'str'>\n"
     ]
    }
   ],
   "source": [
    "print(zomato[\"establishment\"].unique()[0])\n",
    "print(type(zomato[\"establishment\"].unique()[0]))"
   ]
  },
  {
   "cell_type": "markdown",
   "id": "ad97be52",
   "metadata": {},
   "source": [
    "each value has an unwanted square brackets and quotes which seems noisy. Let's remove them with apply( ) function. Also, we have one value which is an empty string, let's rename it to \"NA\" to avoid confusion."
   ]
  },
  {
   "cell_type": "code",
   "execution_count": 30,
   "id": "f04ca3da",
   "metadata": {},
   "outputs": [
    {
     "name": "stdout",
     "output_type": "stream",
     "text": [
      "['Quick Bites']\n",
      "Quick Bites\n",
      "['Quick Bites' 'Casual Dining' 'Bakery' 'Café' 'Dhaba' 'Bhojanalya' 'Bar'\n",
      " 'Sweet Shop' 'Fine Dining' 'Food Truck' 'Dessert Parlour' 'Lounge' 'Pub'\n",
      " 'Beverage Shop' 'Kiosk' 'Paan Shop' 'Confectionery' '' 'Shack' 'Club'\n",
      " 'Food Court' 'Mess' 'Butcher Shop' 'Microbrewery' 'Cocktail Bar' 'Pop up'\n",
      " 'Irani Cafe']\n",
      "['Quick Bites' 'Casual Dining' 'Bakery' 'Café' 'Dhaba' 'Bhojanalya' 'Bar'\n",
      " 'Sweet Shop' 'Fine Dining' 'Food Truck' 'Dessert Parlour' 'Lounge' 'Pub'\n",
      " 'Beverage Shop' 'Kiosk' 'Paan Shop' 'Confectionery' 'NA' 'Shack' 'Club'\n",
      " 'Food Court' 'Mess' 'Butcher Shop' 'Microbrewery' 'Cocktail Bar' 'Pop up'\n",
      " 'Irani Cafe']\n"
     ]
    }
   ],
   "source": [
    "# Removing [' '] from each value\n",
    "print(zomato[\"establishment\"].unique()[0])\n",
    "zomato[\"establishment\"] = zomato[\"establishment\"].apply(lambda x:x[2:-2])\n",
    "print(zomato[\"establishment\"].unique()[0])\n",
    "\n",
    "# Changing ''  to 'NA'\n",
    "print(zomato[\"establishment\"].unique())\n",
    "zomato[\"establishment\"] = zomato[\"establishment\"].apply(lambda x : np.where(x==\"\", \"NA\", x))\n",
    "print(zomato[\"establishment\"].unique())"
   ]
  },
  {
   "cell_type": "markdown",
   "id": "52b4f197",
   "metadata": {},
   "source": [
    "1. url - URL is the link to restaurant's page which is not useful for us\n",
    "2. address - Not useful since it has long strings and its difficult to classify\n",
    "3. city - Let's check unique cities"
   ]
  },
  {
   "cell_type": "code",
   "execution_count": 31,
   "id": "2574b7c7",
   "metadata": {},
   "outputs": [
    {
     "data": {
      "text/plain": [
       "array(['Agra', 'Ahmedabad', 'Gandhinagar', 'Ajmer', 'Alappuzha',\n",
       "       'Allahabad', 'Amravati', 'Amritsar', 'Aurangabad', 'Bangalore',\n",
       "       'Bhopal', 'Bhubaneshwar', 'Chandigarh', 'Mohali', 'Panchkula',\n",
       "       'Zirakpur', 'Nayagaon', 'Chennai', 'Coimbatore', 'Cuttack',\n",
       "       'Darjeeling', 'Dehradun', 'New Delhi', 'Gurgaon', 'Noida',\n",
       "       'Faridabad', 'Ghaziabad', 'Greater Noida', 'Dharamshala',\n",
       "       'Gangtok', 'Goa', 'Gorakhpur', 'Guntur', 'Guwahati', 'Gwalior',\n",
       "       'Haridwar', 'Hyderabad', 'Secunderabad', 'Indore', 'Jabalpur',\n",
       "       'Jaipur', 'Jalandhar', 'Jammu', 'Jamnagar', 'Jamshedpur', 'Jhansi',\n",
       "       'Jodhpur', 'Junagadh', 'Kanpur', 'Kharagpur', 'Kochi', 'Kolhapur',\n",
       "       'Kolkata', 'Howrah', 'Kota', 'Lucknow', 'Ludhiana', 'Madurai',\n",
       "       'Manali', 'Mangalore', 'Manipal', 'Udupi', 'Meerut', 'Mumbai',\n",
       "       'Thane', 'Navi Mumbai', 'Mussoorie', 'Mysore', 'Nagpur',\n",
       "       'Nainital', 'Nasik', 'Nashik', 'Neemrana', 'Ooty', 'Palakkad',\n",
       "       'Patiala', 'Patna', 'Puducherry', 'Pune', 'Pushkar', 'Raipur',\n",
       "       'Rajkot', 'Ranchi', 'Rishikesh', 'Salem', 'Shimla', 'Siliguri',\n",
       "       'Srinagar', 'Surat', 'Thrissur', 'Tirupati', 'Trichy',\n",
       "       'Trivandrum', 'Udaipur', 'Varanasi', 'Vellore', 'Vijayawada',\n",
       "       'Vizag', 'Vadodara'], dtype=object)"
      ]
     },
     "execution_count": 31,
     "metadata": {},
     "output_type": "execute_result"
    }
   ],
   "source": [
    "zomato[\"city\"].unique()"
   ]
  },
  {
   "cell_type": "markdown",
   "id": "e7e9c2a9",
   "metadata": {},
   "source": [
    "Look's good.\n",
    "\n",
    "1. city_id - We can uniquely use city name or id. So one feature is enough\n",
    "2. locality - Let's see number of unique values"
   ]
  },
  {
   "cell_type": "code",
   "execution_count": 32,
   "id": "c61d0a65",
   "metadata": {},
   "outputs": [
    {
     "data": {
      "text/plain": [
       "3731"
      ]
     },
     "execution_count": 32,
     "metadata": {},
     "output_type": "execute_result"
    }
   ],
   "source": [
    "zomato[\"locality\"].nunique()"
   ]
  },
  {
   "cell_type": "markdown",
   "id": "7a62f36b",
   "metadata": {},
   "source": [
    "Although it can be an interesting feature, but since this feature has so many unique classes, we will avoid it.\n",
    "\n",
    "1. latitude - Can be helpful while using geographic maps\n",
    "2. longitude - Can be helpful while using geographic maps\n",
    "3. zipcode - Approx 80% missing values\n",
    "4. country_id - Since this dataset is for Indian restaurants, there should be just one unique id here. Let's check."
   ]
  },
  {
   "cell_type": "code",
   "execution_count": 34,
   "id": "2f000dab",
   "metadata": {},
   "outputs": [
    {
     "data": {
      "text/plain": [
       "array([1], dtype=int64)"
      ]
     },
     "execution_count": 34,
     "metadata": {},
     "output_type": "execute_result"
    }
   ],
   "source": [
    "zomato[\"country_id\"].unique()"
   ]
  },
  {
   "cell_type": "markdown",
   "id": "a1469980",
   "metadata": {},
   "source": [
    "### locality_verbose - Same as locality"
   ]
  },
  {
   "cell_type": "code",
   "execution_count": 36,
   "id": "d1b75c05",
   "metadata": {},
   "outputs": [
    {
     "data": {
      "text/plain": [
       "3910"
      ]
     },
     "execution_count": 36,
     "metadata": {},
     "output_type": "execute_result"
    }
   ],
   "source": [
    "zomato[\"locality_verbose\"].nunique()"
   ]
  },
  {
   "cell_type": "markdown",
   "id": "52eec10c",
   "metadata": {},
   "source": [
    "1. cuisines - This feature has some missing values. Even though this has 9382 unique classes, we can see that each restaurant has a list of cusinies and the composition of the list is the reason why we have so many different cuisine classes. Let's check actual number of unique cuisine classes. But first we need to replace null values with a label."
   ]
  },
  {
   "cell_type": "code",
   "execution_count": 37,
   "id": "e6231413",
   "metadata": {},
   "outputs": [
    {
     "name": "stdout",
     "output_type": "stream",
     "text": [
      "9382\n",
      "['North Indian, South Indian, Mithai, Street Food, Desserts'\n",
      " 'North Indian, Mughlai, Rolls, Chinese, Fast Food, Street Food'\n",
      " 'Fast Food, Mithai' ...\n",
      " 'Street Food, Biryani, Chinese, Fast Food, North Indian, Mughlai'\n",
      " 'North Indian, Chinese, Mexican, Italian, Thai, Continental'\n",
      " 'North Indian, Lucknowi, Chinese']\n"
     ]
    }
   ],
   "source": [
    "print(zomato[\"cuisines\"].nunique())\n",
    "print(zomato[\"cuisines\"].unique())"
   ]
  },
  {
   "cell_type": "code",
   "execution_count": 38,
   "id": "e45c21d2",
   "metadata": {},
   "outputs": [],
   "source": [
    "zomato[\"cuisines\"] = zomato[\"cuisines\"].fillna(\"No cuisine\")"
   ]
  },
  {
   "cell_type": "code",
   "execution_count": 39,
   "id": "54209d79",
   "metadata": {},
   "outputs": [
    {
     "name": "stdout",
     "output_type": "stream",
     "text": [
      "Total number of unique cuisines =  134\n"
     ]
    }
   ],
   "source": [
    "cuisines = []\n",
    "zomato[\"cuisines\"].apply(lambda x : cuisines.extend(x.split(\", \")))\n",
    "cuisines = pd.Series(cuisines)\n",
    "print(\"Total number of unique cuisines = \", cuisines.nunique())"
   ]
  },
  {
   "cell_type": "markdown",
   "id": "2396c70e",
   "metadata": {},
   "source": [
    "1. timings - This also has missing data, however it has 7740 unique classes. Also, it is not structured even if we try to reduce the number classes like we did in cuisines. Its better to omit it altogether."
   ]
  },
  {
   "cell_type": "code",
   "execution_count": 40,
   "id": "029a4b13",
   "metadata": {},
   "outputs": [
    {
     "name": "stdout",
     "output_type": "stream",
     "text": [
      "7740\n",
      "['8:30am – 10:30pm (Mon-Sun)'\n",
      " '12:30PM to 12Midnight (Mon, Wed, Thu, Fri, Sat, Sun), 1PM to 12Midnight (Tue)'\n",
      " '9:30 AM to 11 PM' ... '8am – 2:30pm, 5pm – 10pm (Mon-Sun)'\n",
      " '8am – 3pm, 6:30pm – 11pm (Mon-Sun)'\n",
      " '4pm – 11pm (Mon, Tue, Wed, Fri, Sat, Sun), 4pm – 11:30pm (Thu)']\n"
     ]
    }
   ],
   "source": [
    "print(zomato[\"timings\"].nunique())\n",
    "print(zomato[\"timings\"].unique())"
   ]
  },
  {
   "cell_type": "markdown",
   "id": "8fd6950a",
   "metadata": {},
   "source": [
    "1. average_cost_for_two - This is an interesting feature for our analysis, although the value \"0\" is strange and should be an outlier"
   ]
  },
  {
   "cell_type": "code",
   "execution_count": 41,
   "id": "27468eae",
   "metadata": {},
   "outputs": [
    {
     "data": {
      "text/plain": [
       "array([  700,   600,   300,  1000,   400,   500,  1200,  1600,   250,\n",
       "         200,   150,  1500,   800,   450,   850,   350,   900,  6000,\n",
       "         650,   550,  2500,  6500,  5500,  4300,  3600,  3500,  3200,\n",
       "        3000,  2800,  2000,  1800,  1400,  1300,  1250,  1150,  1100,\n",
       "        1050,    50,    60,   100,   750,     0,   220,   260,   950,\n",
       "        1900,  2400,  2300,  2200,  1700,  1230,    70,   140,   120,\n",
       "         470,    20,    40,   110,    80,    90,   440,  2100, 14000,\n",
       "        5000,  4500,  4100,  4000,  3700,  3400,  2700,  2600,  1650,\n",
       "        1350,   180,  1260,     2,   197,   312,   170,   240,   330,\n",
       "        3100,  4200,  1850,  3300,  4800,  3800,  3250,  2900,  1750,\n",
       "         282,    35,   149,  1550,  5100,  6600,  1450,   160,  2250,\n",
       "        8000,  7000,  3900,  3650,  1020,   320,   360,   280,   130,\n",
       "       15000,  2501,    30,  1950,  1875,  1190,   309, 12000,   380,\n",
       "         299,    45,   190,  4600,   880,    75,   620,   999, 10000,\n",
       "         505, 30000,  4050,   175,   404,   445,   640,    15,   420,\n",
       "         115,   444,   592,  1499,   208,   940,   125,  7500,   520,\n",
       "         294], dtype=int64)"
      ]
     },
     "execution_count": 41,
     "metadata": {},
     "output_type": "execute_result"
    }
   ],
   "source": [
    "zomato[\"average_cost_for_two\"].unique()"
   ]
  },
  {
   "cell_type": "markdown",
   "id": "0c8e94dd",
   "metadata": {},
   "source": [
    "1. price_range - Average prices automatically characterized into bins"
   ]
  },
  {
   "cell_type": "code",
   "execution_count": 42,
   "id": "bb715c07",
   "metadata": {},
   "outputs": [
    {
     "data": {
      "text/plain": [
       "array([2, 1, 3, 4], dtype=int64)"
      ]
     },
     "execution_count": 42,
     "metadata": {},
     "output_type": "execute_result"
    }
   ],
   "source": [
    "zomato[\"price_range\"].unique()"
   ]
  },
  {
   "cell_type": "markdown",
   "id": "d66ded64",
   "metadata": {},
   "source": [
    "1. currency - Only one class. Not useful"
   ]
  },
  {
   "cell_type": "code",
   "execution_count": 43,
   "id": "73909416",
   "metadata": {},
   "outputs": [
    {
     "data": {
      "text/plain": [
       "array(['Rs.'], dtype=object)"
      ]
     },
     "execution_count": 43,
     "metadata": {},
     "output_type": "execute_result"
    }
   ],
   "source": [
    "zomato[\"currency\"].unique()"
   ]
  },
  {
   "cell_type": "markdown",
   "id": "52de90c8",
   "metadata": {},
   "source": [
    "1. highlights - They represent certain features that the restaurant specializes in and wants to highlight to their customers. Each restaurant has a list of highlights which makes the composition different for each one. We can, filter this and find total unique highlights from all restaurants."
   ]
  },
  {
   "cell_type": "code",
   "execution_count": 44,
   "id": "5f4aa9f4",
   "metadata": {},
   "outputs": [
    {
     "name": "stdout",
     "output_type": "stream",
     "text": [
      "31228\n",
      "[\"['Lunch', 'Takeaway Available', 'Credit Card', 'Dinner', 'Cash', 'Air Conditioned', 'Indoor Seating', 'Pure Veg']\"\n",
      " \"['Delivery', 'No Alcohol Available', 'Dinner', 'Takeaway Available', 'Lunch', 'Cash', 'Indoor Seating']\"\n",
      " \"['No Alcohol Available', 'Dinner', 'Takeaway Available', 'Breakfast', 'Lunch', 'Cash', 'Delivery', 'Outdoor Seating', 'Air Conditioned', 'Self Service', 'Indoor Seating', 'Digital Payments Accepted', 'Pure Veg', 'Desserts and Bakes']\"\n",
      " ...\n",
      " \"['Dinner', 'Delivery', 'Cash', 'Takeaway Available', 'Free Parking', 'Digital Payments Accepted', 'Pure Veg', 'Indoor Seating']\"\n",
      " \"['Dinner', 'Cash', 'Takeaway Available', 'Lunch', 'Delivery', 'Free Parking', 'Indoor Seating', 'Air Conditioned', 'Outdoor Seating', 'Digital Payments Accepted', 'Catering Available', 'Pure Veg']\"\n",
      " \"['Dinner', 'Cash', 'Takeaway Available', 'Debit Card', 'Delivery', 'Credit Card', 'Free Parking', 'Outdoor Seating']\"]\n"
     ]
    }
   ],
   "source": [
    "print(zomato[\"highlights\"].nunique())\n",
    "print(zomato[\"highlights\"].unique())"
   ]
  },
  {
   "cell_type": "code",
   "execution_count": 45,
   "id": "20a8dacf",
   "metadata": {},
   "outputs": [
    {
     "name": "stdout",
     "output_type": "stream",
     "text": [
      "Total number of unique highlights =  104\n"
     ]
    }
   ],
   "source": [
    "hl = []\n",
    "zomato[\"highlights\"].apply(lambda x : hl.extend(x[2:-2].split(\"', '\")))\n",
    "hl = pd.Series(hl)\n",
    "print(\"Total number of unique highlights = \", hl.nunique())"
   ]
  },
  {
   "cell_type": "markdown",
   "id": "0158a6da",
   "metadata": {},
   "source": [
    "1. aggregate_rating - Rating given to the restaurant\n",
    "2. rating_text - Characterisation of numeric rating into bins by using labels. We will be using direct ratings in our analysis, so we can ignore this.\n",
    "3. votes - Number of votes contributing to the rating\n",
    "4. photo_count - Photo uploads in reviews\n",
    "Let's check the mean and range of above features"
   ]
  },
  {
   "cell_type": "code",
   "execution_count": 46,
   "id": "e067a154",
   "metadata": {},
   "outputs": [
    {
     "data": {
      "text/html": [
       "<div>\n",
       "<style scoped>\n",
       "    .dataframe tbody tr th:only-of-type {\n",
       "        vertical-align: middle;\n",
       "    }\n",
       "\n",
       "    .dataframe tbody tr th {\n",
       "        vertical-align: top;\n",
       "    }\n",
       "\n",
       "    .dataframe thead th {\n",
       "        text-align: right;\n",
       "    }\n",
       "</style>\n",
       "<table border=\"1\" class=\"dataframe\">\n",
       "  <thead>\n",
       "    <tr style=\"text-align: right;\">\n",
       "      <th></th>\n",
       "      <th>aggregate_rating</th>\n",
       "      <th>votes</th>\n",
       "      <th>photo_count</th>\n",
       "    </tr>\n",
       "  </thead>\n",
       "  <tbody>\n",
       "    <tr>\n",
       "      <th>mean</th>\n",
       "      <td>2.958593</td>\n",
       "      <td>223.330352</td>\n",
       "      <td>160.97477</td>\n",
       "    </tr>\n",
       "    <tr>\n",
       "      <th>min</th>\n",
       "      <td>0.000000</td>\n",
       "      <td>-18.000000</td>\n",
       "      <td>0.00000</td>\n",
       "    </tr>\n",
       "    <tr>\n",
       "      <th>max</th>\n",
       "      <td>4.900000</td>\n",
       "      <td>42539.000000</td>\n",
       "      <td>17702.00000</td>\n",
       "    </tr>\n",
       "  </tbody>\n",
       "</table>\n",
       "</div>"
      ],
      "text/plain": [
       "      aggregate_rating         votes  photo_count\n",
       "mean          2.958593    223.330352    160.97477\n",
       "min           0.000000    -18.000000      0.00000\n",
       "max           4.900000  42539.000000  17702.00000"
      ]
     },
     "execution_count": 46,
     "metadata": {},
     "output_type": "execute_result"
    }
   ],
   "source": [
    "zomato[[\"aggregate_rating\",\"votes\",\"photo_count\"]].describe().loc[[\"mean\",\"min\",\"max\"]]"
   ]
  },
  {
   "cell_type": "markdown",
   "id": "37d16e7a",
   "metadata": {},
   "source": [
    "Rating ranges between 0 and 5 while 42539 are the maximum votes given to a restaurant. The negative value in votes might be an outlier.\n",
    "\n",
    "1. opentable_support - Not useful since no restaurant has True value for this\n",
    "2. delivery - This feature has 3 classes but there is no explanation for those classes. We can consider -1 and 0 to be one class or ignore this feature for now\n",
    "3. takeaway - Again not useful since it only has one class"
   ]
  },
  {
   "cell_type": "code",
   "execution_count": 47,
   "id": "bd69cfce",
   "metadata": {},
   "outputs": [
    {
     "data": {
      "text/plain": [
       "array([ 0., nan])"
      ]
     },
     "execution_count": 47,
     "metadata": {},
     "output_type": "execute_result"
    }
   ],
   "source": [
    "zomato[\"opentable_support\"].unique()"
   ]
  },
  {
   "cell_type": "code",
   "execution_count": 48,
   "id": "43365a29",
   "metadata": {},
   "outputs": [
    {
     "data": {
      "text/plain": [
       "array([-1,  1,  0], dtype=int64)"
      ]
     },
     "execution_count": 48,
     "metadata": {},
     "output_type": "execute_result"
    }
   ],
   "source": [
    "zomato[\"delivery\"].unique()"
   ]
  },
  {
   "cell_type": "code",
   "execution_count": 50,
   "id": "01f3ad6a",
   "metadata": {},
   "outputs": [
    {
     "data": {
      "text/plain": [
       "array([-1], dtype=int64)"
      ]
     },
     "execution_count": 50,
     "metadata": {},
     "output_type": "execute_result"
    }
   ],
   "source": [
    "zomato[\"takeaway\"].unique()"
   ]
  },
  {
   "cell_type": "code",
   "execution_count": 55,
   "id": "f549a30c",
   "metadata": {},
   "outputs": [
    {
     "data": {
      "text/html": [
       "<div>\n",
       "<style scoped>\n",
       "    .dataframe tbody tr th:only-of-type {\n",
       "        vertical-align: middle;\n",
       "    }\n",
       "\n",
       "    .dataframe tbody tr th {\n",
       "        vertical-align: top;\n",
       "    }\n",
       "\n",
       "    .dataframe thead th {\n",
       "        text-align: right;\n",
       "    }\n",
       "</style>\n",
       "<table border=\"1\" class=\"dataframe\">\n",
       "  <thead>\n",
       "    <tr style=\"text-align: right;\">\n",
       "      <th></th>\n",
       "      <th>res_id</th>\n",
       "      <th>name</th>\n",
       "      <th>establishment</th>\n",
       "      <th>url</th>\n",
       "      <th>address</th>\n",
       "      <th>city</th>\n",
       "      <th>city_id</th>\n",
       "      <th>locality</th>\n",
       "      <th>latitude</th>\n",
       "      <th>longitude</th>\n",
       "      <th>...</th>\n",
       "      <th>price_range</th>\n",
       "      <th>currency</th>\n",
       "      <th>highlights</th>\n",
       "      <th>aggregate_rating</th>\n",
       "      <th>rating_text</th>\n",
       "      <th>votes</th>\n",
       "      <th>photo_count</th>\n",
       "      <th>opentable_support</th>\n",
       "      <th>delivery</th>\n",
       "      <th>takeaway</th>\n",
       "    </tr>\n",
       "  </thead>\n",
       "  <tbody>\n",
       "    <tr>\n",
       "      <th>211882</th>\n",
       "      <td>19142822</td>\n",
       "      <td>Shree Janta Ice Cream</td>\n",
       "      <td>Dessert Parlour</td>\n",
       "      <td>https://www.zomato.com/vadodara/shree-janta-ic...</td>\n",
       "      <td>Ground Floor, 5 Ronak Plaza, Tulsidham Char Ra...</td>\n",
       "      <td>Vadodara</td>\n",
       "      <td>32</td>\n",
       "      <td>Manjalpur</td>\n",
       "      <td>22.270516</td>\n",
       "      <td>73.196408</td>\n",
       "      <td>...</td>\n",
       "      <td>1</td>\n",
       "      <td>Rs.</td>\n",
       "      <td>['Cash', 'Takeaway Available', 'Delivery', 'In...</td>\n",
       "      <td>2.9</td>\n",
       "      <td>Average</td>\n",
       "      <td>4</td>\n",
       "      <td>1</td>\n",
       "      <td>0.0</td>\n",
       "      <td>1</td>\n",
       "      <td>-1</td>\n",
       "    </tr>\n",
       "    <tr>\n",
       "      <th>211925</th>\n",
       "      <td>18984164</td>\n",
       "      <td>The Grand Thakar</td>\n",
       "      <td>Casual Dining</td>\n",
       "      <td>https://www.zomato.com/vadodara/the-grand-thak...</td>\n",
       "      <td>3rd Floor, Shreem Shalini Mall, Opposite Conqu...</td>\n",
       "      <td>Vadodara</td>\n",
       "      <td>32</td>\n",
       "      <td>Alkapuri</td>\n",
       "      <td>22.310563</td>\n",
       "      <td>73.171163</td>\n",
       "      <td>...</td>\n",
       "      <td>2</td>\n",
       "      <td>Rs.</td>\n",
       "      <td>['Dinner', 'Cash', 'Debit Card', 'Lunch', 'Tak...</td>\n",
       "      <td>4.0</td>\n",
       "      <td>Very Good</td>\n",
       "      <td>111</td>\n",
       "      <td>38</td>\n",
       "      <td>0.0</td>\n",
       "      <td>-1</td>\n",
       "      <td>-1</td>\n",
       "    </tr>\n",
       "    <tr>\n",
       "      <th>211926</th>\n",
       "      <td>18019952</td>\n",
       "      <td>Geeta lodge</td>\n",
       "      <td>Casual Dining</td>\n",
       "      <td>https://www.zomato.com/vadodara/geeta-lodge-al...</td>\n",
       "      <td>Shop 11, Ground Floor, Atlantis K-10, Tower A,...</td>\n",
       "      <td>Vadodara</td>\n",
       "      <td>32</td>\n",
       "      <td>Alkapuri</td>\n",
       "      <td>22.317731</td>\n",
       "      <td>73.168107</td>\n",
       "      <td>...</td>\n",
       "      <td>1</td>\n",
       "      <td>Rs.</td>\n",
       "      <td>['Dinner', 'Cash', 'Credit Card', 'Lunch', 'Ta...</td>\n",
       "      <td>3.9</td>\n",
       "      <td>Good</td>\n",
       "      <td>207</td>\n",
       "      <td>14</td>\n",
       "      <td>0.0</td>\n",
       "      <td>-1</td>\n",
       "      <td>-1</td>\n",
       "    </tr>\n",
       "    <tr>\n",
       "      <th>211940</th>\n",
       "      <td>3200996</td>\n",
       "      <td>Raju Omlet</td>\n",
       "      <td>Quick Bites</td>\n",
       "      <td>https://www.zomato.com/vadodara/raju-omlet-kar...</td>\n",
       "      <td>Mahalaxmi Apartment, Opposite B O B, Karoli Ba...</td>\n",
       "      <td>Vadodara</td>\n",
       "      <td>32</td>\n",
       "      <td>Karelibaug</td>\n",
       "      <td>22.322455</td>\n",
       "      <td>73.197203</td>\n",
       "      <td>...</td>\n",
       "      <td>1</td>\n",
       "      <td>Rs.</td>\n",
       "      <td>['Dinner', 'Cash', 'Takeaway Available', 'Debi...</td>\n",
       "      <td>4.1</td>\n",
       "      <td>Very Good</td>\n",
       "      <td>187</td>\n",
       "      <td>40</td>\n",
       "      <td>0.0</td>\n",
       "      <td>1</td>\n",
       "      <td>-1</td>\n",
       "    </tr>\n",
       "    <tr>\n",
       "      <th>211942</th>\n",
       "      <td>3201138</td>\n",
       "      <td>Subway</td>\n",
       "      <td>Quick Bites</td>\n",
       "      <td>https://www.zomato.com/vadodara/subway-1-akota...</td>\n",
       "      <td>G-2, Vedant Platina, Near Cosmos, Akota, Vadodara</td>\n",
       "      <td>Vadodara</td>\n",
       "      <td>32</td>\n",
       "      <td>Akota</td>\n",
       "      <td>22.270027</td>\n",
       "      <td>73.143068</td>\n",
       "      <td>...</td>\n",
       "      <td>2</td>\n",
       "      <td>Rs.</td>\n",
       "      <td>['Dinner', 'Delivery', 'Credit Card', 'Lunch',...</td>\n",
       "      <td>3.7</td>\n",
       "      <td>Good</td>\n",
       "      <td>128</td>\n",
       "      <td>34</td>\n",
       "      <td>0.0</td>\n",
       "      <td>1</td>\n",
       "      <td>-1</td>\n",
       "    </tr>\n",
       "  </tbody>\n",
       "</table>\n",
       "<p>5 rows × 26 columns</p>\n",
       "</div>"
      ],
      "text/plain": [
       "          res_id                   name    establishment  \\\n",
       "211882  19142822  Shree Janta Ice Cream  Dessert Parlour   \n",
       "211925  18984164       The Grand Thakar    Casual Dining   \n",
       "211926  18019952            Geeta lodge    Casual Dining   \n",
       "211940   3200996             Raju Omlet      Quick Bites   \n",
       "211942   3201138                 Subway      Quick Bites   \n",
       "\n",
       "                                                      url  \\\n",
       "211882  https://www.zomato.com/vadodara/shree-janta-ic...   \n",
       "211925  https://www.zomato.com/vadodara/the-grand-thak...   \n",
       "211926  https://www.zomato.com/vadodara/geeta-lodge-al...   \n",
       "211940  https://www.zomato.com/vadodara/raju-omlet-kar...   \n",
       "211942  https://www.zomato.com/vadodara/subway-1-akota...   \n",
       "\n",
       "                                                  address      city  city_id  \\\n",
       "211882  Ground Floor, 5 Ronak Plaza, Tulsidham Char Ra...  Vadodara       32   \n",
       "211925  3rd Floor, Shreem Shalini Mall, Opposite Conqu...  Vadodara       32   \n",
       "211926  Shop 11, Ground Floor, Atlantis K-10, Tower A,...  Vadodara       32   \n",
       "211940  Mahalaxmi Apartment, Opposite B O B, Karoli Ba...  Vadodara       32   \n",
       "211942  G-2, Vedant Platina, Near Cosmos, Akota, Vadodara  Vadodara       32   \n",
       "\n",
       "          locality   latitude  longitude  ... price_range  currency  \\\n",
       "211882   Manjalpur  22.270516  73.196408  ...           1       Rs.   \n",
       "211925    Alkapuri  22.310563  73.171163  ...           2       Rs.   \n",
       "211926    Alkapuri  22.317731  73.168107  ...           1       Rs.   \n",
       "211940  Karelibaug  22.322455  73.197203  ...           1       Rs.   \n",
       "211942       Akota  22.270027  73.143068  ...           2       Rs.   \n",
       "\n",
       "                                               highlights aggregate_rating  \\\n",
       "211882  ['Cash', 'Takeaway Available', 'Delivery', 'In...              2.9   \n",
       "211925  ['Dinner', 'Cash', 'Debit Card', 'Lunch', 'Tak...              4.0   \n",
       "211926  ['Dinner', 'Cash', 'Credit Card', 'Lunch', 'Ta...              3.9   \n",
       "211940  ['Dinner', 'Cash', 'Takeaway Available', 'Debi...              4.1   \n",
       "211942  ['Dinner', 'Delivery', 'Credit Card', 'Lunch',...              3.7   \n",
       "\n",
       "       rating_text  votes  photo_count opentable_support delivery  takeaway  \n",
       "211882     Average      4            1               0.0        1        -1  \n",
       "211925   Very Good    111           38               0.0       -1        -1  \n",
       "211926        Good    207           14               0.0       -1        -1  \n",
       "211940   Very Good    187           40               0.0        1        -1  \n",
       "211942        Good    128           34               0.0        1        -1  \n",
       "\n",
       "[5 rows x 26 columns]"
      ]
     },
     "execution_count": 55,
     "metadata": {},
     "output_type": "execute_result"
    }
   ],
   "source": [
    "zomato.tail()"
   ]
  },
  {
   "cell_type": "code",
   "execution_count": 57,
   "id": "f48ad9bc",
   "metadata": {},
   "outputs": [],
   "source": [
    "zomato.drop(columns=[\"url\",\"address\",\"opentable_support\",\"currency\",\"timings\",\"zipcode\",\"country_id\"],axis=1,inplace=True)"
   ]
  },
  {
   "cell_type": "code",
   "execution_count": 58,
   "id": "60b06d35",
   "metadata": {},
   "outputs": [
    {
     "data": {
      "text/html": [
       "<div>\n",
       "<style scoped>\n",
       "    .dataframe tbody tr th:only-of-type {\n",
       "        vertical-align: middle;\n",
       "    }\n",
       "\n",
       "    .dataframe tbody tr th {\n",
       "        vertical-align: top;\n",
       "    }\n",
       "\n",
       "    .dataframe thead th {\n",
       "        text-align: right;\n",
       "    }\n",
       "</style>\n",
       "<table border=\"1\" class=\"dataframe\">\n",
       "  <thead>\n",
       "    <tr style=\"text-align: right;\">\n",
       "      <th></th>\n",
       "      <th>res_id</th>\n",
       "      <th>name</th>\n",
       "      <th>establishment</th>\n",
       "      <th>city</th>\n",
       "      <th>city_id</th>\n",
       "      <th>locality</th>\n",
       "      <th>latitude</th>\n",
       "      <th>longitude</th>\n",
       "      <th>locality_verbose</th>\n",
       "      <th>cuisines</th>\n",
       "      <th>average_cost_for_two</th>\n",
       "      <th>price_range</th>\n",
       "      <th>highlights</th>\n",
       "      <th>aggregate_rating</th>\n",
       "      <th>rating_text</th>\n",
       "      <th>votes</th>\n",
       "      <th>photo_count</th>\n",
       "      <th>delivery</th>\n",
       "      <th>takeaway</th>\n",
       "    </tr>\n",
       "  </thead>\n",
       "  <tbody>\n",
       "    <tr>\n",
       "      <th>0</th>\n",
       "      <td>3400299</td>\n",
       "      <td>Bikanervala</td>\n",
       "      <td>Quick Bites</td>\n",
       "      <td>Agra</td>\n",
       "      <td>34</td>\n",
       "      <td>Khandari</td>\n",
       "      <td>27.211450</td>\n",
       "      <td>78.002381</td>\n",
       "      <td>Khandari, Agra</td>\n",
       "      <td>North Indian, South Indian, Mithai, Street Foo...</td>\n",
       "      <td>700</td>\n",
       "      <td>2</td>\n",
       "      <td>['Lunch', 'Takeaway Available', 'Credit Card',...</td>\n",
       "      <td>4.4</td>\n",
       "      <td>Very Good</td>\n",
       "      <td>814</td>\n",
       "      <td>154</td>\n",
       "      <td>-1</td>\n",
       "      <td>-1</td>\n",
       "    </tr>\n",
       "    <tr>\n",
       "      <th>1</th>\n",
       "      <td>3400005</td>\n",
       "      <td>Mama Chicken Mama Franky House</td>\n",
       "      <td>Quick Bites</td>\n",
       "      <td>Agra</td>\n",
       "      <td>34</td>\n",
       "      <td>Agra Cantt</td>\n",
       "      <td>27.160569</td>\n",
       "      <td>78.011583</td>\n",
       "      <td>Agra Cantt, Agra</td>\n",
       "      <td>North Indian, Mughlai, Rolls, Chinese, Fast Fo...</td>\n",
       "      <td>600</td>\n",
       "      <td>2</td>\n",
       "      <td>['Delivery', 'No Alcohol Available', 'Dinner',...</td>\n",
       "      <td>4.4</td>\n",
       "      <td>Very Good</td>\n",
       "      <td>1203</td>\n",
       "      <td>161</td>\n",
       "      <td>-1</td>\n",
       "      <td>-1</td>\n",
       "    </tr>\n",
       "    <tr>\n",
       "      <th>2</th>\n",
       "      <td>3401013</td>\n",
       "      <td>Bhagat Halwai</td>\n",
       "      <td>Quick Bites</td>\n",
       "      <td>Agra</td>\n",
       "      <td>34</td>\n",
       "      <td>Shahganj</td>\n",
       "      <td>27.182938</td>\n",
       "      <td>77.979684</td>\n",
       "      <td>Shahganj, Agra</td>\n",
       "      <td>Fast Food, Mithai</td>\n",
       "      <td>300</td>\n",
       "      <td>1</td>\n",
       "      <td>['No Alcohol Available', 'Dinner', 'Takeaway A...</td>\n",
       "      <td>4.2</td>\n",
       "      <td>Very Good</td>\n",
       "      <td>801</td>\n",
       "      <td>107</td>\n",
       "      <td>1</td>\n",
       "      <td>-1</td>\n",
       "    </tr>\n",
       "    <tr>\n",
       "      <th>3</th>\n",
       "      <td>3400290</td>\n",
       "      <td>Bhagat Halwai</td>\n",
       "      <td>Quick Bites</td>\n",
       "      <td>Agra</td>\n",
       "      <td>34</td>\n",
       "      <td>Civil Lines</td>\n",
       "      <td>27.205668</td>\n",
       "      <td>78.004799</td>\n",
       "      <td>Civil Lines, Agra</td>\n",
       "      <td>Desserts, Bakery, Fast Food, South Indian</td>\n",
       "      <td>300</td>\n",
       "      <td>1</td>\n",
       "      <td>['Takeaway Available', 'Credit Card', 'Lunch',...</td>\n",
       "      <td>4.3</td>\n",
       "      <td>Very Good</td>\n",
       "      <td>693</td>\n",
       "      <td>157</td>\n",
       "      <td>1</td>\n",
       "      <td>-1</td>\n",
       "    </tr>\n",
       "    <tr>\n",
       "      <th>4</th>\n",
       "      <td>3401744</td>\n",
       "      <td>The Salt Cafe Kitchen &amp; Bar</td>\n",
       "      <td>Casual Dining</td>\n",
       "      <td>Agra</td>\n",
       "      <td>34</td>\n",
       "      <td>Tajganj</td>\n",
       "      <td>27.157709</td>\n",
       "      <td>78.052421</td>\n",
       "      <td>Tajganj, Agra</td>\n",
       "      <td>North Indian, Continental, Italian</td>\n",
       "      <td>1000</td>\n",
       "      <td>3</td>\n",
       "      <td>['Lunch', 'Serves Alcohol', 'Cash', 'Credit Ca...</td>\n",
       "      <td>4.9</td>\n",
       "      <td>Excellent</td>\n",
       "      <td>470</td>\n",
       "      <td>291</td>\n",
       "      <td>1</td>\n",
       "      <td>-1</td>\n",
       "    </tr>\n",
       "  </tbody>\n",
       "</table>\n",
       "</div>"
      ],
      "text/plain": [
       "    res_id                            name  establishment  city  city_id  \\\n",
       "0  3400299                     Bikanervala    Quick Bites  Agra       34   \n",
       "1  3400005  Mama Chicken Mama Franky House    Quick Bites  Agra       34   \n",
       "2  3401013                   Bhagat Halwai    Quick Bites  Agra       34   \n",
       "3  3400290                   Bhagat Halwai    Quick Bites  Agra       34   \n",
       "4  3401744     The Salt Cafe Kitchen & Bar  Casual Dining  Agra       34   \n",
       "\n",
       "      locality   latitude  longitude   locality_verbose  \\\n",
       "0     Khandari  27.211450  78.002381     Khandari, Agra   \n",
       "1   Agra Cantt  27.160569  78.011583   Agra Cantt, Agra   \n",
       "2     Shahganj  27.182938  77.979684     Shahganj, Agra   \n",
       "3  Civil Lines  27.205668  78.004799  Civil Lines, Agra   \n",
       "4      Tajganj  27.157709  78.052421      Tajganj, Agra   \n",
       "\n",
       "                                            cuisines  average_cost_for_two  \\\n",
       "0  North Indian, South Indian, Mithai, Street Foo...                   700   \n",
       "1  North Indian, Mughlai, Rolls, Chinese, Fast Fo...                   600   \n",
       "2                                  Fast Food, Mithai                   300   \n",
       "3          Desserts, Bakery, Fast Food, South Indian                   300   \n",
       "4                 North Indian, Continental, Italian                  1000   \n",
       "\n",
       "   price_range                                         highlights  \\\n",
       "0            2  ['Lunch', 'Takeaway Available', 'Credit Card',...   \n",
       "1            2  ['Delivery', 'No Alcohol Available', 'Dinner',...   \n",
       "2            1  ['No Alcohol Available', 'Dinner', 'Takeaway A...   \n",
       "3            1  ['Takeaway Available', 'Credit Card', 'Lunch',...   \n",
       "4            3  ['Lunch', 'Serves Alcohol', 'Cash', 'Credit Ca...   \n",
       "\n",
       "   aggregate_rating rating_text  votes  photo_count  delivery  takeaway  \n",
       "0               4.4   Very Good    814          154        -1        -1  \n",
       "1               4.4   Very Good   1203          161        -1        -1  \n",
       "2               4.2   Very Good    801          107         1        -1  \n",
       "3               4.3   Very Good    693          157         1        -1  \n",
       "4               4.9   Excellent    470          291         1        -1  "
      ]
     },
     "execution_count": 58,
     "metadata": {},
     "output_type": "execute_result"
    }
   ],
   "source": [
    "zomato.head()"
   ]
  },
  {
   "cell_type": "code",
   "execution_count": 60,
   "id": "64fcbb14",
   "metadata": {},
   "outputs": [],
   "source": [
    "zomato.to_csv('./zomato.csv')"
   ]
  },
  {
   "cell_type": "code",
   "execution_count": null,
   "id": "15e5d426",
   "metadata": {},
   "outputs": [],
   "source": []
  }
 ],
 "metadata": {
  "kernelspec": {
   "display_name": "Python 3 (ipykernel)",
   "language": "python",
   "name": "python3"
  },
  "language_info": {
   "codemirror_mode": {
    "name": "ipython",
    "version": 3
   },
   "file_extension": ".py",
   "mimetype": "text/x-python",
   "name": "python",
   "nbconvert_exporter": "python",
   "pygments_lexer": "ipython3",
   "version": "3.9.7"
  }
 },
 "nbformat": 4,
 "nbformat_minor": 5
}
